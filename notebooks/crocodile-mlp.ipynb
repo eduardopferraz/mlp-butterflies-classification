{
 "cells": [
  {
   "cell_type": "code",
   "execution_count": 8,
   "id": "e3d1f436",
   "metadata": {},
   "outputs": [
    {
     "name": "stdout",
     "output_type": "stream",
     "text": [
      "Requirement already satisfied: scikit-learn in /workspaces/mlp-crocodile-classification/.venv/lib/python3.12/site-packages (1.7.2)\n",
      "Requirement already satisfied: numpy>=1.22.0 in /workspaces/mlp-crocodile-classification/.venv/lib/python3.12/site-packages (from scikit-learn) (2.3.3)\n",
      "Requirement already satisfied: scipy>=1.8.0 in /workspaces/mlp-crocodile-classification/.venv/lib/python3.12/site-packages (from scikit-learn) (1.16.2)\n",
      "Requirement already satisfied: joblib>=1.2.0 in /workspaces/mlp-crocodile-classification/.venv/lib/python3.12/site-packages (from scikit-learn) (1.5.2)\n",
      "Requirement already satisfied: threadpoolctl>=3.1.0 in /workspaces/mlp-crocodile-classification/.venv/lib/python3.12/site-packages (from scikit-learn) (3.6.0)\n",
      "Note: you may need to restart the kernel to use updated packages.\n",
      "=== MLP SIMPLES - DATASET CROCODILO ===\n",
      "\n"
     ]
    }
   ],
   "source": [
    "%pip install scikit-learn\n",
    "\n",
    "import os\n",
    "import numpy as np\n",
    "from sklearn.model_selection import train_test_split\n",
    "from sklearn.preprocessing import StandardScaler\n",
    "from sklearn.utils import Bunch\n",
    "#from skimage import io, transform\n",
    "\n",
    "\n",
    "print(\"=== MLP SIMPLES - DATASET CROCODILO ===\\n\")\n"
   ]
  },
  {
   "cell_type": "code",
   "execution_count": null,
   "id": "a42fa76d",
   "metadata": {},
   "outputs": [],
   "source": [
    "def load_crocodile_dataset(data_dir, image_size=(128, 128)):\n",
    "    images = []\n",
    "    labels = []\n",
    "    label_names = sorted(os.listdir(data_dir))  # cada subpasta é uma classe\n",
    "\n",
    "    for label_idx, label_name in enumerate(label_names):\n",
    "        folder = os.path.join(data_dir, label_name)\n",
    "        if not os.path.isdir(folder):\n",
    "            continue\n",
    "\n",
    "        for file in os.listdir(folder):\n",
    "            img_path = os.path.join(folder, file)\n",
    "            try:\n",
    "                img = io.imread(img_path)  # lê imagem\n",
    "                img_resized = transform.resize(img, image_size, anti_aliasing=True)\n",
    "                images.append(img_resized.flatten())  # transforma em vetor\n",
    "                labels.append(label_idx)\n",
    "            except Exception as e:\n",
    "                print(f\"Erro ao carregar {img_path}: {e}\")\n",
    "\n",
    "    X = np.array(images)\n",
    "    y = np.array(labels)\n",
    "\n",
    "    return Bunch(\n",
    "        data=X,\n",
    "        target=y,\n",
    "        target_names=label_names,\n",
    "        DESCR=\"Dataset de espécies de crocodilos\"\n",
    "    )"
   ]
  }
 ],
 "metadata": {
  "kernelspec": {
   "display_name": ".venv",
   "language": "python",
   "name": "python3"
  },
  "language_info": {
   "codemirror_mode": {
    "name": "ipython",
    "version": 3
   },
   "file_extension": ".py",
   "mimetype": "text/x-python",
   "name": "python",
   "nbconvert_exporter": "python",
   "pygments_lexer": "ipython3",
   "version": "3.12.3"
  }
 },
 "nbformat": 4,
 "nbformat_minor": 5
}
